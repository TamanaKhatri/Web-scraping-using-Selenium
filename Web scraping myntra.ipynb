{
 "cells": [
  {
   "cell_type": "markdown",
   "id": "87edf81d",
   "metadata": {},
   "source": [
    "## Web Scraping using Selenium"
   ]
  },
  {
   "cell_type": "markdown",
   "id": "e666def4",
   "metadata": {},
   "source": [
    "Importing the required libraries"
   ]
  },
  {
   "cell_type": "code",
   "execution_count": 1,
   "id": "338728b2",
   "metadata": {},
   "outputs": [],
   "source": [
    "import pandas as pd\n",
    "from bs4 import BeautifulSoup\n",
    "import requests\n",
    "from selenium import webdriver\n",
    "import time"
   ]
  },
  {
   "cell_type": "code",
   "execution_count": 2,
   "id": "59e87231",
   "metadata": {},
   "outputs": [
    {
     "name": "stdout",
     "output_type": "stream",
     "text": [
      "enter your search term: lipstick\n"
     ]
    }
   ],
   "source": [
    "def search_url(url, page_number):\n",
    "    template = 'https://www.myntra.com/lipstick?rawQuery={}&p={}'\n",
    "    return template.format(url, page_number)\n",
    "\n",
    "driver = webdriver.Chrome()\n",
    "\n",
    "org_url = input('enter your search term: ')\n",
    "\n",
    "brands = []\n",
    "price=[]\n",
    "original_price=[]\n",
    "description=[]\n",
    "ratings=[]\n",
    "product_url=[]\n",
    "\n",
    "for i in range(1, 11):\n",
    "    driver.get(search_url(org_url, i))\n",
    "    \n",
    "    soup = BeautifulSoup(driver.page_source, 'html.parser')\n",
    "    \n",
    "    try:\n",
    "        brand = soup.find_all('h3', class_=\"product-brand\")\n",
    "        for a in brand:\n",
    "            brands.append(a.text)\n",
    "    except AttributeError:\n",
    "        continue\n",
    "        \n",
    "    #price\n",
    "    try:\n",
    "        pr = soup.find_all('span',class_=\"product-discountedPrice\")\n",
    "        for b in pr:\n",
    "            price.append(int(b.text.strip('Rs. ')))\n",
    "    except AttributeError:\n",
    "        price.append(None)\n",
    "        \n",
    "    missing_count = len(brands) - len(price)\n",
    "    if missing_count > 0:\n",
    "        price.extend([None]*missing_count)\n",
    "    \n",
    "    #original price\n",
    "    try:\n",
    "        mrp = soup.find_all('span', class_ = 'product-strike')\n",
    "        for c in mrp:\n",
    "            original_price.append(int(c.text.strip('Rs. ')))\n",
    "    except AttributeError:\n",
    "        original_price.append(None)\n",
    "        \n",
    "    missing_counts = len(brands) - len(original_price)\n",
    "    if missing_counts > 0:\n",
    "        original_price.extend([None]*missing_counts)\n",
    "    \n",
    "    #description\n",
    "    try:\n",
    "        des = soup.find_all('h4', class_='product-product')\n",
    "        description.extend([i.text for i in des])\n",
    "    except AttributeError:\n",
    "        description =' '\n",
    "        \n",
    "    #product url\n",
    "\n",
    "    try:\n",
    "        li_elements = soup.find_all('li', class_=\"product-base\")\n",
    "        for d in li_elements:\n",
    "            a_elements = d.find_all('a', {'data-refreshpage': 'true', 'target': '_blank'})\n",
    "            for a in a_elements:\n",
    "                href = 'http://myntra.com/' + a['href']\n",
    "                product_url.append(href)\n",
    "    except AttributeError:\n",
    "        product_url=' '\n",
    "\n",
    "        \n",
    "driver.close()"
   ]
  },
  {
   "cell_type": "code",
   "execution_count": 3,
   "id": "de81afad",
   "metadata": {},
   "outputs": [],
   "source": [
    "df = pd.DataFrame(columns=['brand_name','price','original_price','description','product_url'])\n",
    "df['brand_name'] = brands\n",
    "df['price']=price\n",
    "df['original_price']=original_price\n",
    "df['description']=description\n",
    "df['product_url']=product_url"
   ]
  },
  {
   "cell_type": "code",
   "execution_count": 4,
   "id": "d19c1e0c",
   "metadata": {},
   "outputs": [
    {
     "data": {
      "text/html": [
       "<div>\n",
       "<style scoped>\n",
       "    .dataframe tbody tr th:only-of-type {\n",
       "        vertical-align: middle;\n",
       "    }\n",
       "\n",
       "    .dataframe tbody tr th {\n",
       "        vertical-align: top;\n",
       "    }\n",
       "\n",
       "    .dataframe thead th {\n",
       "        text-align: right;\n",
       "    }\n",
       "</style>\n",
       "<table border=\"1\" class=\"dataframe\">\n",
       "  <thead>\n",
       "    <tr style=\"text-align: right;\">\n",
       "      <th></th>\n",
       "      <th>brand_name</th>\n",
       "      <th>price</th>\n",
       "      <th>original_price</th>\n",
       "      <th>description</th>\n",
       "      <th>product_url</th>\n",
       "    </tr>\n",
       "  </thead>\n",
       "  <tbody>\n",
       "    <tr>\n",
       "      <th>0</th>\n",
       "      <td>ELLE 18</td>\n",
       "      <td>93.0</td>\n",
       "      <td>100.0</td>\n",
       "      <td>Lip Color -Berry Tea W14</td>\n",
       "      <td>http://myntra.com/lipstick/elle+18/elle-18--co...</td>\n",
       "    </tr>\n",
       "    <tr>\n",
       "      <th>1</th>\n",
       "      <td>ELLE 18</td>\n",
       "      <td>93.0</td>\n",
       "      <td>100.0</td>\n",
       "      <td>Matte Lip Color Crazy Red R31</td>\n",
       "      <td>http://myntra.com/lipstick/elle+18/elle-18-col...</td>\n",
       "    </tr>\n",
       "    <tr>\n",
       "      <th>2</th>\n",
       "      <td>SUGAR POP</td>\n",
       "      <td>239.0</td>\n",
       "      <td>299.0</td>\n",
       "      <td>Satin Matte Lipstick- Taupe 01</td>\n",
       "      <td>http://myntra.com/lipstick/sugar+pop/sugar-pop...</td>\n",
       "    </tr>\n",
       "    <tr>\n",
       "      <th>3</th>\n",
       "      <td>ELLE 18</td>\n",
       "      <td>93.0</td>\n",
       "      <td>100.0</td>\n",
       "      <td>Lip Color Maroon Silk R37</td>\n",
       "      <td>http://myntra.com/lipstick/elle+18/elle-18-col...</td>\n",
       "    </tr>\n",
       "    <tr>\n",
       "      <th>4</th>\n",
       "      <td>Blue Heaven</td>\n",
       "      <td>245.0</td>\n",
       "      <td>350.0</td>\n",
       "      <td>Set of 3 Candy Crush Lip Color</td>\n",
       "      <td>http://myntra.com/lipstick/blue+heaven/blue-he...</td>\n",
       "    </tr>\n",
       "    <tr>\n",
       "      <th>...</th>\n",
       "      <td>...</td>\n",
       "      <td>...</td>\n",
       "      <td>...</td>\n",
       "      <td>...</td>\n",
       "      <td>...</td>\n",
       "    </tr>\n",
       "    <tr>\n",
       "      <th>495</th>\n",
       "      <td>ELLE 18</td>\n",
       "      <td>NaN</td>\n",
       "      <td>NaN</td>\n",
       "      <td>Liquid LipColor - Warm Fusicia</td>\n",
       "      <td>http://myntra.com/lipstick/elle+18/elle-18-one...</td>\n",
       "    </tr>\n",
       "    <tr>\n",
       "      <th>496</th>\n",
       "      <td>MARS</td>\n",
       "      <td>NaN</td>\n",
       "      <td>NaN</td>\n",
       "      <td>Double Trouble Lip Crayon - 05</td>\n",
       "      <td>http://myntra.com/lipstick/mars/mars-double-tr...</td>\n",
       "    </tr>\n",
       "    <tr>\n",
       "      <th>497</th>\n",
       "      <td>Colors Queen</td>\n",
       "      <td>NaN</td>\n",
       "      <td>NaN</td>\n",
       "      <td>Luxury Matte Lipstick - 03</td>\n",
       "      <td>http://myntra.com/lipstick/colors+queen/colors...</td>\n",
       "    </tr>\n",
       "    <tr>\n",
       "      <th>498</th>\n",
       "      <td>M.A.C</td>\n",
       "      <td>NaN</td>\n",
       "      <td>NaN</td>\n",
       "      <td>Matte Lipstick - Soar</td>\n",
       "      <td>http://myntra.com/lipstick/m.a.c/mac-matte-lip...</td>\n",
       "    </tr>\n",
       "    <tr>\n",
       "      <th>499</th>\n",
       "      <td>CVB</td>\n",
       "      <td>NaN</td>\n",
       "      <td>NaN</td>\n",
       "      <td>Handaityan 6 Pcs Lipsticks</td>\n",
       "      <td>http://myntra.com/lipstick/cvb/cvb-handaityan-...</td>\n",
       "    </tr>\n",
       "  </tbody>\n",
       "</table>\n",
       "<p>500 rows × 5 columns</p>\n",
       "</div>"
      ],
      "text/plain": [
       "       brand_name  price  original_price                     description  \\\n",
       "0         ELLE 18   93.0           100.0        Lip Color -Berry Tea W14   \n",
       "1         ELLE 18   93.0           100.0   Matte Lip Color Crazy Red R31   \n",
       "2       SUGAR POP  239.0           299.0  Satin Matte Lipstick- Taupe 01   \n",
       "3         ELLE 18   93.0           100.0       Lip Color Maroon Silk R37   \n",
       "4     Blue Heaven  245.0           350.0  Set of 3 Candy Crush Lip Color   \n",
       "..            ...    ...             ...                             ...   \n",
       "495       ELLE 18    NaN             NaN  Liquid LipColor - Warm Fusicia   \n",
       "496          MARS    NaN             NaN  Double Trouble Lip Crayon - 05   \n",
       "497  Colors Queen    NaN             NaN      Luxury Matte Lipstick - 03   \n",
       "498         M.A.C    NaN             NaN           Matte Lipstick - Soar   \n",
       "499           CVB    NaN             NaN      Handaityan 6 Pcs Lipsticks   \n",
       "\n",
       "                                           product_url  \n",
       "0    http://myntra.com/lipstick/elle+18/elle-18--co...  \n",
       "1    http://myntra.com/lipstick/elle+18/elle-18-col...  \n",
       "2    http://myntra.com/lipstick/sugar+pop/sugar-pop...  \n",
       "3    http://myntra.com/lipstick/elle+18/elle-18-col...  \n",
       "4    http://myntra.com/lipstick/blue+heaven/blue-he...  \n",
       "..                                                 ...  \n",
       "495  http://myntra.com/lipstick/elle+18/elle-18-one...  \n",
       "496  http://myntra.com/lipstick/mars/mars-double-tr...  \n",
       "497  http://myntra.com/lipstick/colors+queen/colors...  \n",
       "498  http://myntra.com/lipstick/m.a.c/mac-matte-lip...  \n",
       "499  http://myntra.com/lipstick/cvb/cvb-handaityan-...  \n",
       "\n",
       "[500 rows x 5 columns]"
      ]
     },
     "execution_count": 4,
     "metadata": {},
     "output_type": "execute_result"
    }
   ],
   "source": [
    "df"
   ]
  },
  {
   "cell_type": "code",
   "execution_count": 5,
   "id": "072d041f",
   "metadata": {},
   "outputs": [
    {
     "data": {
      "text/plain": [
       "500"
      ]
     },
     "execution_count": 5,
     "metadata": {},
     "output_type": "execute_result"
    }
   ],
   "source": [
    "len(brands)"
   ]
  },
  {
   "cell_type": "code",
   "execution_count": 6,
   "id": "81f24474",
   "metadata": {},
   "outputs": [],
   "source": [
    "df.to_csv('myntra_products_lipsticks.csv')"
   ]
  },
  {
   "cell_type": "code",
   "execution_count": 8,
   "id": "c0c869d7",
   "metadata": {},
   "outputs": [
    {
     "data": {
      "text/plain": [
       "61"
      ]
     },
     "execution_count": 8,
     "metadata": {},
     "output_type": "execute_result"
    }
   ],
   "source": [
    "df['brand_name'].nunique()"
   ]
  },
  {
   "cell_type": "code",
   "execution_count": 10,
   "id": "fff42d4e",
   "metadata": {},
   "outputs": [
    {
     "data": {
      "text/plain": [
       "array(['ELLE 18', 'SUGAR POP', 'Blue Heaven', 'Lakme',\n",
       "       'NYX PROFESSIONAL MAKEUP', 'krayons', 'Clinique', 'Renee',\n",
       "       'Lovechild Masaba', 'Olivia', 'PERPAA', 'BIOTIQUE NATURAL MAKEUP',\n",
       "       'Iba', 'SERY', 'Deborah', 'Plum', 'PUPA MILANO', 'Stars Cosmetics',\n",
       "       'brwn. pro melanin care', 'FORFOR', 'Maybelline', 'LOreal',\n",
       "       'CAL Losangeles', 'ForSure', 'Marie Claire', 'FACES CANADA',\n",
       "       'SWISS BEAUTY', 'SUGAR', 'MARS', 'Earth Rhythm', 'Colorbar',\n",
       "       'M.A.C', 'Mamaearth', 'Revlon', 'peripera', 'CVB', 'INCOLOR',\n",
       "       'The Face Shop', 'ETUDE', 'Iba HALAL CARE', 'LOVE EARTH',\n",
       "       'MyGlamm', 'Colors Queen', 'Just Herbs', 'Chambor', 'CurlyTales',\n",
       "       'THE BODY SHOP', 'Makeup Revolution London', 'Recode', 'CARA MIA',\n",
       "       'KIRO', 'Seven Seas', 'July', 'Praush', 'Ronzille',\n",
       "       'Rimmel London', 'KLENVOR', 'Milagro beauty', 'Adbeni',\n",
       "       'Bobbi Brown', 'Fashion Colour'], dtype=object)"
      ]
     },
     "execution_count": 10,
     "metadata": {},
     "output_type": "execute_result"
    }
   ],
   "source": [
    "df['brand_name'].unique()"
   ]
  },
  {
   "cell_type": "markdown",
   "id": "6dcc7b09",
   "metadata": {},
   "source": [
    "###### Similarly, other products details can be extracted for further analysis"
   ]
  },
  {
   "cell_type": "code",
   "execution_count": null,
   "id": "bcb628c4",
   "metadata": {},
   "outputs": [],
   "source": []
  }
 ],
 "metadata": {
  "kernelspec": {
   "display_name": "Python 3 (ipykernel)",
   "language": "python",
   "name": "python3"
  },
  "language_info": {
   "codemirror_mode": {
    "name": "ipython",
    "version": 3
   },
   "file_extension": ".py",
   "mimetype": "text/x-python",
   "name": "python",
   "nbconvert_exporter": "python",
   "pygments_lexer": "ipython3",
   "version": "3.9.13"
  },
  "toc": {
   "base_numbering": 1,
   "nav_menu": {},
   "number_sections": true,
   "sideBar": true,
   "skip_h1_title": false,
   "title_cell": "Table of Contents",
   "title_sidebar": "Contents",
   "toc_cell": false,
   "toc_position": {},
   "toc_section_display": true,
   "toc_window_display": false
  },
  "varInspector": {
   "cols": {
    "lenName": 16,
    "lenType": 16,
    "lenVar": 40
   },
   "kernels_config": {
    "python": {
     "delete_cmd_postfix": "",
     "delete_cmd_prefix": "del ",
     "library": "var_list.py",
     "varRefreshCmd": "print(var_dic_list())"
    },
    "r": {
     "delete_cmd_postfix": ") ",
     "delete_cmd_prefix": "rm(",
     "library": "var_list.r",
     "varRefreshCmd": "cat(var_dic_list()) "
    }
   },
   "types_to_exclude": [
    "module",
    "function",
    "builtin_function_or_method",
    "instance",
    "_Feature"
   ],
   "window_display": false
  }
 },
 "nbformat": 4,
 "nbformat_minor": 5
}
